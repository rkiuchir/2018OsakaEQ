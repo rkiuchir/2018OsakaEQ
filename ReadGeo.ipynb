{
 "cells": [
  {
   "cell_type": "markdown",
   "metadata": {},
   "source": [
    "# Read Geography Data"
   ]
  },
  {
   "cell_type": "code",
   "execution_count": 1,
   "metadata": {},
   "outputs": [],
   "source": [
    "import numpy as np\n",
    "import matplotlib.pyplot as plt\n",
    "import matplotlib.cm as cm\n",
    "import matplotlib.colors as mcol\n",
    "from mpl_toolkits.basemap import Basemap\n",
    "from netCDF4 import Dataset\n",
    "import pandas as pd\n",
    "import os"
   ]
  },
  {
   "cell_type": "markdown",
   "metadata": {},
   "source": [
    "## - Read Topography"
   ]
  },
  {
   "cell_type": "code",
   "execution_count": 2,
   "metadata": {},
   "outputs": [],
   "source": [
    "def Etopo(lon_area, lat_area, resolution):\n",
    "    \n",
    "    ###############################################################\n",
    "    # Read the topography model\n",
    "    # The data downloaded from:\n",
    "    # https://www.ngdc.noaa.gov/mgg/global/global.html\n",
    "    #\n",
    "    # R. Kiuchi (Jun. 2018)\n",
    "    ###############################################################\n",
    "    \n",
    "    ### Input \n",
    "    # resolution: resolution of topography for both of longitude and latitude [deg]\n",
    "    # (Original resolution is 0.0167 deg)\n",
    "    # lon_area and lat_area: the region of the map which you want like [100, 130], [20, 25]\n",
    "    ###\n",
    "    \n",
    "    ### Output\n",
    "    # Mesh type longitude, latitude, and topography data\n",
    "    ### Output\n",
    "    \n",
    "    ###############----For input file----###############\n",
    "    # Setting the directory\n",
    "    homedir = os.getcwd()\n",
    "    path = homedir + '/data'\n",
    "    os.chdir(path)\n",
    "    \n",
    "    # Read NetCDF data\n",
    "    # The data from https://www.ngdc.noaa.gov/mgg/global/global.html\n",
    "    data = Dataset(\"ETOPO1_Ice_g_gdal.grd\", \"r\")\n",
    "    \n",
    "    # Get data\n",
    "    lon_range = data.variables['x_range'][:]\n",
    "    lat_range = data.variables['y_range'][:]\n",
    "    topo_range = data.variables['z_range'][:]\n",
    "    spacing = data.variables['spacing'][:]\n",
    "    dimension = data.variables['dimension'][:]\n",
    "    z = data.variables['z'][:]\n",
    "\n",
    "    lon_num = dimension[0]\n",
    "    lat_num = dimension[1]\n",
    "    \n",
    "    \n",
    "    # Prepare array\n",
    "    # For longitude\n",
    "    lon_input = np.zeros(lon_num); lat_input = np.zeros(lat_num)\n",
    "    for i in range(lon_num):\n",
    "        lon_input[i] = lon_range[0] + i * spacing[0]\n",
    "\n",
    "    for i in range(lat_num):\n",
    "        lat_input[i] = lat_range[0] + i * spacing[1]\n",
    "\n",
    "    # Create 2D array\n",
    "    lon, lat = np.meshgrid(lon_input, lat_input)\n",
    "\n",
    "    # Convert 2D array from 1D array for z value\n",
    "    topo = np.reshape(z, (lat_num, lon_num))\n",
    "\n",
    "    \n",
    "    # Skip the data for resolution\n",
    "    if ((resolution < spacing[0]) | (resolution < spacing[1])):\n",
    "        print('Set the highest resolution')\n",
    "    else:\n",
    "        skip = int(resolution/spacing[0])\n",
    "        lon = lon[::skip,::skip]\n",
    "        lat = lat[::skip,::skip]\n",
    "        topo = topo[::skip,::skip]\n",
    "\n",
    "        \n",
    "    topo = topo[::-1]\n",
    "    \n",
    "    \n",
    "    # Select the range of map\n",
    "    range1 = np.where((lon>=lon_area[0]) & (lon<=lon_area[1]))\n",
    "    lon = lon[range1]; lat = lat[range1]; topo = topo[range1]\n",
    "    range2 = np.where((lat>=lat_area[0]) & (lat<=lat_area[1]))\n",
    "    lon = lon[range2]; lat = lat[range2]; topo = topo[range2]\n",
    "\n",
    "    \n",
    "    # Convert 2D again\n",
    "    lon_num = len(np.unique(lon))\n",
    "    lat_num = len(np.unique(lat))\n",
    "    lon = np.reshape(lon, (lat_num, lon_num))\n",
    "    lat = np.reshape(lat, (lat_num, lon_num))\n",
    "    topo = np.reshape(topo, (lat_num, lon_num))\n",
    "    \n",
    "\n",
    "    return lon, lat, topo\n",
    "\n",
    "\n",
    "    \n"
   ]
  },
  {
   "cell_type": "code",
   "execution_count": null,
   "metadata": {},
   "outputs": [],
   "source": []
  },
  {
   "cell_type": "code",
   "execution_count": null,
   "metadata": {},
   "outputs": [],
   "source": []
  }
 ],
 "metadata": {
  "kernelspec": {
   "display_name": "Python 3",
   "language": "python",
   "name": "python3"
  },
  "language_info": {
   "codemirror_mode": {
    "name": "ipython",
    "version": 3
   },
   "file_extension": ".py",
   "mimetype": "text/x-python",
   "name": "python",
   "nbconvert_exporter": "python",
   "pygments_lexer": "ipython3",
   "version": "3.7.0"
  },
  "varInspector": {
   "cols": {
    "lenName": 16,
    "lenType": 16,
    "lenVar": 40
   },
   "kernels_config": {
    "python": {
     "delete_cmd_postfix": "",
     "delete_cmd_prefix": "del ",
     "library": "var_list.py",
     "varRefreshCmd": "print(var_dic_list())"
    },
    "r": {
     "delete_cmd_postfix": ") ",
     "delete_cmd_prefix": "rm(",
     "library": "var_list.r",
     "varRefreshCmd": "cat(var_dic_list()) "
    }
   },
   "types_to_exclude": [
    "module",
    "function",
    "builtin_function_or_method",
    "instance",
    "_Feature"
   ],
   "window_display": false
  }
 },
 "nbformat": 4,
 "nbformat_minor": 2
}
